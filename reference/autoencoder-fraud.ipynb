{
 "cells": [
  {
   "cell_type": "code",
   "execution_count": 1,
   "id": "falling-simple",
   "metadata": {
    "_cell_guid": "b1076dfc-b9ad-4769-8c92-a6c4dae69d19",
    "_uuid": "8f2839f25d086af736a60e9eeb907d3b93b6e0e5",
    "execution": {
     "iopub.execute_input": "2021-06-18T08:44:19.748769Z",
     "iopub.status.busy": "2021-06-18T08:44:19.748034Z",
     "iopub.status.idle": "2021-06-18T08:44:26.802561Z",
     "shell.execute_reply": "2021-06-18T08:44:26.803090Z",
     "shell.execute_reply.started": "2021-06-16T15:00:24.397448Z"
    },
    "papermill": {
     "duration": 7.083668,
     "end_time": "2021-06-18T08:44:26.803399",
     "exception": false,
     "start_time": "2021-06-18T08:44:19.719731",
     "status": "completed"
    },
    "tags": []
   },
   "outputs": [],
   "source": [
    "import numpy as np\n",
    "import pandas as pd\n",
    "import tensorflow as tf\n",
    "import matplotlib.pyplot as plt\n",
    "\n",
    "from sklearn.metrics import accuracy_score, precision_score, recall_score, confusion_matrix"
   ]
  },
  {
   "cell_type": "markdown",
   "id": "failing-detail",
   "metadata": {
    "papermill": {
     "duration": 0.016301,
     "end_time": "2021-06-18T08:44:26.837206",
     "exception": false,
     "start_time": "2021-06-18T08:44:26.820905",
     "status": "completed"
    },
    "tags": []
   },
   "source": [
    "# Credit card Fraud detection with autoencoder\n",
    "\n",
    "Outline:\n",
    "- What is an autoencoder\n",
    "- How to use an autoencoder for detecing anomaly\n",
    "- Results"
   ]
  },
  {
   "cell_type": "markdown",
   "id": "latin-profile",
   "metadata": {
    "papermill": {
     "duration": 0.016843,
     "end_time": "2021-06-18T08:44:26.870658",
     "exception": false,
     "start_time": "2021-06-18T08:44:26.853815",
     "status": "completed"
    },
    "tags": []
   },
   "source": [
    "# Autoencoders\n",
    "\n",
    "An autoencoder is a neural network that is trained to learn a latent representation of the training data distribution.\n",
    "\n",
    "The autoencoder architecthure is compose of two parts:\n",
    "- Encoder: it maps the input to a lower dimensional latent space (also called latent code)\n",
    "- Decoder: it maps the latent space back to the input space\n",
    "\n",
    "<img src=\"https://www.compthree.com/images/blog/ae/ae.png\" width=\"600\">\n",
    "\n",
    "Because the latent space has a lower dimension than the input space the autoencoder must learn from the data what are the most important informations.\n",
    "\n",
    "For example givan an image, the autoencoder first encoded the image into a lower dimensional latent representation, then decodes the latent representation back to an image. The goal of an autoencoder is to minimize the reconstruction loss between the orginal image and the reconstructed one.\n",
    "\n",
    "**Self-supervised learning**\n",
    "\n",
    "In order to train this type of neural network we do not need any label. The goal is to minimize the reconstruction loss (MSE, MAE in general).\n",
    "\n",
    "$$ Loss(x) = norm(Decode(encode(x))  - x)$$\n",
    "\n",
    "# How to use an autoencoder to detect anomaly?\n",
    "\n",
    "We will use only non-fraudulent transaction in order to train the network, in this way the network will learn to reconstruct only the inputs coming from the same data distribution, while all other inputs will be reconstructed very poorly and the reconstruction loss will be very high. By exploting the reconstruction loss it is set a threshold to classify fraud transactions. "
   ]
  },
  {
   "cell_type": "code",
   "execution_count": 3,
   "id": "expected-teens",
   "metadata": {
    "execution": {
     "iopub.execute_input": "2021-06-18T08:44:26.907619Z",
     "iopub.status.busy": "2021-06-18T08:44:26.906865Z",
     "iopub.status.idle": "2021-06-18T08:44:31.679691Z",
     "shell.execute_reply": "2021-06-18T08:44:31.680476Z",
     "shell.execute_reply.started": "2021-06-16T15:48:16.479509Z"
    },
    "papermill": {
     "duration": 4.793059,
     "end_time": "2021-06-18T08:44:31.680743",
     "exception": false,
     "start_time": "2021-06-18T08:44:26.887684",
     "status": "completed"
    },
    "tags": []
   },
   "outputs": [
    {
     "name": "stdout",
     "output_type": "stream",
     "text": [
      "<class 'pandas.core.frame.DataFrame'>\n",
      "RangeIndex: 284807 entries, 0 to 284806\n",
      "Data columns (total 31 columns):\n",
      " #   Column  Non-Null Count   Dtype  \n",
      "---  ------  --------------   -----  \n",
      " 0   Time    284807 non-null  float64\n",
      " 1   V1      284807 non-null  float64\n",
      " 2   V2      284807 non-null  float64\n",
      " 3   V3      284807 non-null  float64\n",
      " 4   V4      284807 non-null  float64\n",
      " 5   V5      284807 non-null  float64\n",
      " 6   V6      284807 non-null  float64\n",
      " 7   V7      284807 non-null  float64\n",
      " 8   V8      284807 non-null  float64\n",
      " 9   V9      284807 non-null  float64\n",
      " 10  V10     284807 non-null  float64\n",
      " 11  V11     284807 non-null  float64\n",
      " 12  V12     284807 non-null  float64\n",
      " 13  V13     284807 non-null  float64\n",
      " 14  V14     284807 non-null  float64\n",
      " 15  V15     284807 non-null  float64\n",
      " 16  V16     284807 non-null  float64\n",
      " 17  V17     284807 non-null  float64\n",
      " 18  V18     284807 non-null  float64\n",
      " 19  V19     284807 non-null  float64\n",
      " 20  V20     284807 non-null  float64\n",
      " 21  V21     284807 non-null  float64\n",
      " 22  V22     284807 non-null  float64\n",
      " 23  V23     284807 non-null  float64\n",
      " 24  V24     284807 non-null  float64\n",
      " 25  V25     284807 non-null  float64\n",
      " 26  V26     284807 non-null  float64\n",
      " 27  V27     284807 non-null  float64\n",
      " 28  V28     284807 non-null  float64\n",
      " 29  Amount  284807 non-null  float64\n",
      " 30  Class   284807 non-null  int64  \n",
      "dtypes: float64(30), int64(1)\n",
      "memory usage: 67.4 MB\n"
     ]
    }
   ],
   "source": [
    "data = pd.read_csv(\"creditcard.csv\")\n",
    "data.info()"
   ]
  },
  {
   "cell_type": "code",
   "execution_count": 4,
   "id": "impressed-atlanta",
   "metadata": {
    "execution": {
     "iopub.execute_input": "2021-06-18T08:44:31.721116Z",
     "iopub.status.busy": "2021-06-18T08:44:31.720171Z",
     "iopub.status.idle": "2021-06-18T08:44:31.733573Z",
     "shell.execute_reply": "2021-06-18T08:44:31.734176Z",
     "shell.execute_reply.started": "2021-06-16T15:48:38.048862Z"
    },
    "papermill": {
     "duration": 0.033905,
     "end_time": "2021-06-18T08:44:31.734359",
     "exception": false,
     "start_time": "2021-06-18T08:44:31.700454",
     "status": "completed"
    },
    "tags": []
   },
   "outputs": [
    {
     "data": {
      "text/plain": [
       "0    284315\n",
       "1       492\n",
       "Name: Class, dtype: int64"
      ]
     },
     "execution_count": 4,
     "metadata": {},
     "output_type": "execute_result"
    }
   ],
   "source": [
    "data[\"Class\"].value_counts()"
   ]
  },
  {
   "cell_type": "code",
   "execution_count": 18,
   "id": "copyrighted-wells",
   "metadata": {
    "execution": {
     "iopub.execute_input": "2021-06-18T08:44:31.772701Z",
     "iopub.status.busy": "2021-06-18T08:44:31.772014Z",
     "iopub.status.idle": "2021-06-18T08:44:31.869933Z",
     "shell.execute_reply": "2021-06-18T08:44:31.870484Z",
     "shell.execute_reply.started": "2021-06-16T15:57:53.314274Z"
    },
    "papermill": {
     "duration": 0.118766,
     "end_time": "2021-06-18T08:44:31.870667",
     "exception": false,
     "start_time": "2021-06-18T08:44:31.751901",
     "status": "completed"
    },
    "tags": []
   },
   "outputs": [],
   "source": [
    "fraud = data.loc[data[\"Class\"]==1, :].drop([\"Time\", \"Class\"], axis=1).values\n",
    "normal = data.loc[data[\"Class\"]==0, :].drop([\"Time\", \"Class\"], axis=1).values"
   ]
  },
  {
   "cell_type": "code",
   "execution_count": 19,
   "id": "gentle-psychiatry",
   "metadata": {
    "execution": {
     "iopub.execute_input": "2021-06-18T08:44:31.909195Z",
     "iopub.status.busy": "2021-06-18T08:44:31.908539Z",
     "iopub.status.idle": "2021-06-18T08:44:32.088548Z",
     "shell.execute_reply": "2021-06-18T08:44:32.087906Z",
     "shell.execute_reply.started": "2021-06-16T15:58:25.336376Z"
    },
    "papermill": {
     "duration": 0.199985,
     "end_time": "2021-06-18T08:44:32.088706",
     "exception": false,
     "start_time": "2021-06-18T08:44:31.888721",
     "status": "completed"
    },
    "tags": []
   },
   "outputs": [],
   "source": [
    "from sklearn.model_selection import train_test_split\n",
    "\n",
    "x_train, x_test = train_test_split(normal, test_size=0.2, random_state=42)\n",
    "x_train, x_val = train_test_split(x_train, test_size=0.2, random_state=42)"
   ]
  },
  {
   "cell_type": "markdown",
   "id": "specialized-supply",
   "metadata": {
    "papermill": {
     "duration": 0.017343,
     "end_time": "2021-06-18T08:44:32.123786",
     "exception": false,
     "start_time": "2021-06-18T08:44:32.106443",
     "status": "completed"
    },
    "tags": []
   },
   "source": [
    "xval will be used to detect overfitting during the training of the autoencoder. \\\n",
    "xtest and fraud will be used only at the end to compute the godness of the model."
   ]
  },
  {
   "cell_type": "code",
   "execution_count": 20,
   "id": "egyptian-argentina",
   "metadata": {
    "execution": {
     "iopub.execute_input": "2021-06-18T08:44:32.212472Z",
     "iopub.status.busy": "2021-06-18T08:44:32.211599Z",
     "iopub.status.idle": "2021-06-18T08:44:32.463134Z",
     "shell.execute_reply": "2021-06-18T08:44:32.462582Z",
     "shell.execute_reply.started": "2021-06-16T16:01:39.286942Z"
    },
    "papermill": {
     "duration": 0.321597,
     "end_time": "2021-06-18T08:44:32.463287",
     "exception": false,
     "start_time": "2021-06-18T08:44:32.141690",
     "status": "completed"
    },
    "tags": []
   },
   "outputs": [],
   "source": [
    "# always normalize features before pass them to a neural network\n",
    "#min_val = tf.reduce_min(x_train)\n",
    "#max_val = tf.reduce_max(x_train)\n",
    "\n",
    "#train_data = (x_train - min_val) / (max_val - min_val)\n",
    "#val_data = (x_val - min_val) / (max_val - min_val)\n",
    "#test_data = (x_test - min_val) / (max_val -min_val)\n",
    "#fraud_data = (fraud - min_val) / (max_val - min_val)\n",
    "\n",
    "train_data = tf.cast(x_train, tf.float32)\n",
    "val_data = tf.cast(x_val, tf.float32)\n",
    "test_data = tf.cast(x_test, tf.float32)\n",
    "fraud_data = tf.cast(fraud, tf.float32)"
   ]
  },
  {
   "cell_type": "code",
   "execution_count": 24,
   "id": "b809f5c7",
   "metadata": {},
   "outputs": [
    {
     "data": {
      "text/plain": [
       "<tf.Tensor: shape=(181961, 29), dtype=float32, numpy=\n",
       "array([[-2.2668908e+00, -6.8612492e-01,  1.6568083e+00, ...,\n",
       "         5.1230019e-01, -3.2226607e-01,  1.0000000e+00],\n",
       "       [ 1.0820661e+00, -9.0259880e-01,  8.7823652e-02, ...,\n",
       "        -9.4977871e-02,  2.0526100e-02,  1.5339999e+02],\n",
       "       [ 9.7485363e-01, -3.9181858e-01,  6.6621763e-01, ...,\n",
       "        -9.0319201e-02,  4.2596679e-02,  1.4500000e+02],\n",
       "       ...,\n",
       "       [-1.9735496e+00,  1.9404924e+00,  8.9424050e-01, ...,\n",
       "        -4.5453110e-01, -1.8597512e+00,  1.3480000e+01],\n",
       "       [-1.2974559e+00, -5.7378983e-01,  1.7491914e+00, ...,\n",
       "        -5.1465638e-02,  7.5778879e-02,  3.6000000e+01],\n",
       "       [-5.4176158e-01,  1.1879239e+00,  9.4354123e-01, ...,\n",
       "         3.4413651e-01,  1.5116103e-01,  8.8999999e-01]], dtype=float32)>"
      ]
     },
     "execution_count": 24,
     "metadata": {},
     "output_type": "execute_result"
    }
   ],
   "source": [
    "train_data"
   ]
  },
  {
   "cell_type": "code",
   "execution_count": 22,
   "id": "compound-gabriel",
   "metadata": {
    "execution": {
     "iopub.execute_input": "2021-06-18T08:44:32.519248Z",
     "iopub.status.busy": "2021-06-18T08:44:32.518560Z",
     "iopub.status.idle": "2021-06-18T08:44:32.839129Z",
     "shell.execute_reply": "2021-06-18T08:44:32.838373Z",
     "shell.execute_reply.started": "2021-06-16T16:01:51.290944Z"
    },
    "papermill": {
     "duration": 0.358536,
     "end_time": "2021-06-18T08:44:32.839310",
     "exception": false,
     "start_time": "2021-06-18T08:44:32.480774",
     "status": "completed"
    },
    "tags": []
   },
   "outputs": [
    {
     "data": {
      "image/png": "[encoded data removed]",
      "text/plain": [
       "<Figure size 432x288 with 1 Axes>"
      ]
     },
     "metadata": {
      "needs_background": "light"
     },
     "output_type": "display_data"
    },
    {
     "data": {
      "image/png": "[encoded data removed]",
      "text/plain": [
       "<Figure size 432x288 with 1 Axes>"
      ]
     },
     "metadata": {
      "needs_background": "light"
     },
     "output_type": "display_data"
    }
   ],
   "source": [
    "plt.grid()\n",
    "plt.plot(np.arange(29), train_data[0])\n",
    "plt.title(\"A Normal transaction\")\n",
    "plt.show()\n",
    "\n",
    "plt.grid()\n",
    "plt.plot(np.arange(29), fraud_data[0])\n",
    "plt.title(\"A fraud transaction\")\n",
    "plt.show()"
   ]
  },
  {
   "cell_type": "code",
   "execution_count": 9,
   "id": "dutch-reverse",
   "metadata": {
    "execution": {
     "iopub.execute_input": "2021-06-18T08:44:32.888479Z",
     "iopub.status.busy": "2021-06-18T08:44:32.887769Z",
     "iopub.status.idle": "2021-06-18T08:44:33.084799Z",
     "shell.execute_reply": "2021-06-18T08:44:33.084117Z",
     "shell.execute_reply.started": "2021-06-16T16:03:12.483174Z"
    },
    "papermill": {
     "duration": 0.225398,
     "end_time": "2021-06-18T08:44:33.084940",
     "exception": false,
     "start_time": "2021-06-18T08:44:32.859542",
     "status": "completed"
    },
    "tags": []
   },
   "outputs": [],
   "source": [
    "from tensorflow.keras.models import Model\n",
    "from tensorflow.keras import layers, losses\n",
    "\n",
    "\n",
    "class AnomalyDetector(Model):\n",
    "  def __init__(self):\n",
    "    super(AnomalyDetector, self).__init__()\n",
    "    self.encoder = tf.keras.Sequential([\n",
    "      layers.Dense(64, activation=\"relu\"),\n",
    "      layers.Dense(32, activation=\"relu\"),\n",
    "      layers.Dense(8, activation=\"relu\")]) # the latent representation has only 8 dimensions\n",
    "\n",
    "    self.decoder = tf.keras.Sequential([\n",
    "      layers.Dense(16, activation=\"relu\"),\n",
    "      layers.Dense(32, activation=\"relu\"),\n",
    "      layers.Dense(29, activation=\"sigmoid\")])\n",
    "\n",
    "  def call(self, x):\n",
    "    encoded = self.encoder(x)\n",
    "    decoded = self.decoder(encoded)\n",
    "    return decoded\n",
    "\n",
    "autoencoder = AnomalyDetector()"
   ]
  },
  {
   "cell_type": "code",
   "execution_count": 10,
   "id": "forced-salon",
   "metadata": {
    "execution": {
     "iopub.execute_input": "2021-06-18T08:44:33.137100Z",
     "iopub.status.busy": "2021-06-18T08:44:33.136404Z",
     "iopub.status.idle": "2021-06-18T08:44:33.144866Z",
     "shell.execute_reply": "2021-06-18T08:44:33.144308Z",
     "shell.execute_reply.started": "2021-06-16T16:03:13.464873Z"
    },
    "papermill": {
     "duration": 0.040412,
     "end_time": "2021-06-18T08:44:33.145004",
     "exception": false,
     "start_time": "2021-06-18T08:44:33.104592",
     "status": "completed"
    },
    "tags": []
   },
   "outputs": [],
   "source": [
    "autoencoder.compile(optimizer='adam', loss='mae')"
   ]
  },
  {
   "cell_type": "code",
   "execution_count": 11,
   "id": "german-transsexual",
   "metadata": {
    "execution": {
     "iopub.execute_input": "2021-06-18T08:44:33.189500Z",
     "iopub.status.busy": "2021-06-18T08:44:33.188825Z",
     "iopub.status.idle": "2021-06-18T08:44:40.450759Z",
     "shell.execute_reply": "2021-06-18T08:44:40.451602Z",
     "shell.execute_reply.started": "2021-06-16T16:03:14.171261Z"
    },
    "papermill": {
     "duration": 7.287149,
     "end_time": "2021-06-18T08:44:40.451794",
     "exception": false,
     "start_time": "2021-06-18T08:44:33.164645",
     "status": "completed"
    },
    "tags": []
   },
   "outputs": [
    {
     "name": "stdout",
     "output_type": "stream",
     "text": [
      "Epoch 1/5\n",
      "356/356 [==============================] - 2s 2ms/step - loss: 0.1021 - val_loss: 0.0011\n",
      "Epoch 2/5\n",
      "356/356 [==============================] - 1s 2ms/step - loss: 4.7161e-04 - val_loss: 2.2441e-04\n",
      "Epoch 3/5\n",
      "356/356 [==============================] - 1s 2ms/step - loss: 2.0512e-04 - val_loss: 1.8902e-04\n",
      "Epoch 4/5\n",
      "356/356 [==============================] - 1s 2ms/step - loss: 1.8078e-04 - val_loss: 1.8409e-04\n",
      "Epoch 5/5\n",
      "356/356 [==============================] - 1s 2ms/step - loss: 1.8061e-04 - val_loss: 1.8423e-04\n"
     ]
    }
   ],
   "source": [
    "history = autoencoder.fit(train_data, train_data, \n",
    "          epochs=5, \n",
    "          batch_size=512,\n",
    "          validation_data=(val_data, val_data),\n",
    "          shuffle=True)"
   ]
  },
  {
   "cell_type": "code",
   "execution_count": 25,
   "id": "understanding-religion",
   "metadata": {
    "execution": {
     "iopub.execute_input": "2021-06-18T08:44:40.562119Z",
     "iopub.status.busy": "2021-06-18T08:44:40.561438Z",
     "iopub.status.idle": "2021-06-18T08:44:44.521044Z",
     "shell.execute_reply": "2021-06-18T08:44:44.520528Z",
     "shell.execute_reply.started": "2021-06-16T16:03:43.875929Z"
    },
    "papermill": {
     "duration": 4.017586,
     "end_time": "2021-06-18T08:44:44.521219",
     "exception": false,
     "start_time": "2021-06-18T08:44:40.503633",
     "status": "completed"
    },
    "tags": []
   },
   "outputs": [
    {
     "name": "stdout",
     "output_type": "stream",
     "text": [
      "5687/5687 [==============================] - 4s 679us/step\n"
     ]
    },
    {
     "data": {
      "image/png": "[encoded data removed]",
      "text/plain": [
       "<Figure size 432x288 with 1 Axes>"
      ]
     },
     "metadata": {
      "needs_background": "light"
     },
     "output_type": "display_data"
    }
   ],
   "source": [
    "reconstructions = autoencoder.predict(train_data)\n",
    "train_loss = tf.keras.losses.mae(reconstructions, train_data)\n",
    "\n",
    "plt.hist(train_loss[None,:], bins=50)\n",
    "plt.xlabel(\"Train loss\")\n",
    "plt.ylabel(\"No of examples\")\n",
    "plt.show()"
   ]
  },
  {
   "cell_type": "code",
   "execution_count": 26,
   "id": "ready-heading",
   "metadata": {
    "execution": {
     "iopub.execute_input": "2021-06-18T08:44:44.630571Z",
     "iopub.status.busy": "2021-06-18T08:44:44.629844Z",
     "iopub.status.idle": "2021-06-18T08:44:44.636667Z",
     "shell.execute_reply": "2021-06-18T08:44:44.635954Z",
     "shell.execute_reply.started": "2021-06-16T16:04:02.330705Z"
    },
    "papermill": {
     "duration": 0.063304,
     "end_time": "2021-06-18T08:44:44.636856",
     "exception": false,
     "start_time": "2021-06-18T08:44:44.573552",
     "status": "completed"
    },
    "tags": []
   },
   "outputs": [
    {
     "name": "stdout",
     "output_type": "stream",
     "text": [
      "Threshold:  12.242238\n"
     ]
    }
   ],
   "source": [
    "threshold = np.mean(train_loss) + np.std(train_loss)\n",
    "print(\"Threshold: \", threshold)"
   ]
  },
  {
   "cell_type": "markdown",
   "id": "conventional-lloyd",
   "metadata": {
    "papermill": {
     "duration": 0.052057,
     "end_time": "2021-06-18T08:44:44.741548",
     "exception": false,
     "start_time": "2021-06-18T08:44:44.689491",
     "status": "completed"
    },
    "tags": []
   },
   "source": [
    "# Results\n",
    "\n",
    "- Accuracy\n",
    "- Recall: the proportion of frauds that are correctly classified as frauds\n",
    "- Precision: the proprotion of predicted frauds that are true frauds."
   ]
  },
  {
   "cell_type": "code",
   "execution_count": 13,
   "id": "desirable-webcam",
   "metadata": {
    "execution": {
     "iopub.execute_input": "2021-06-18T08:44:44.853089Z",
     "iopub.status.busy": "2021-06-18T08:44:44.852411Z",
     "iopub.status.idle": "2021-06-18T08:44:45.978035Z",
     "shell.execute_reply": "2021-06-18T08:44:45.977332Z",
     "shell.execute_reply.started": "2021-06-16T16:34:00.150768Z"
    },
    "papermill": {
     "duration": 1.18389,
     "end_time": "2021-06-18T08:44:45.978248",
     "exception": false,
     "start_time": "2021-06-18T08:44:44.794358",
     "status": "completed"
    },
    "tags": []
   },
   "outputs": [
    {
     "name": "stdout",
     "output_type": "stream",
     "text": [
      "0.9463974816664615\n"
     ]
    }
   ],
   "source": [
    "reconstructions = autoencoder.predict(test_data)\n",
    "test_loss = tf.keras.losses.mae(reconstructions, test_data)\n",
    "\n",
    "y_hat_test = test_loss >= threshold\n",
    "y_true_test = np.zeros(y_hat_test.shape[0])\n",
    "print(accuracy_score(y_true_test, y_hat_test))"
   ]
  },
  {
   "cell_type": "code",
   "execution_count": 14,
   "id": "moderate-cleveland",
   "metadata": {
    "execution": {
     "iopub.execute_input": "2021-06-18T08:44:46.091612Z",
     "iopub.status.busy": "2021-06-18T08:44:46.090922Z",
     "iopub.status.idle": "2021-06-18T08:44:52.236140Z",
     "shell.execute_reply": "2021-06-18T08:44:52.235605Z",
     "shell.execute_reply.started": "2021-06-16T16:25:32.174416Z"
    },
    "papermill": {
     "duration": 6.202495,
     "end_time": "2021-06-18T08:44:52.236286",
     "exception": false,
     "start_time": "2021-06-18T08:44:46.033791",
     "status": "completed"
    },
    "tags": []
   },
   "outputs": [
    {
     "data": {
      "text/plain": [
       "<tf.Tensor: shape=(), dtype=float32, numpy=0.04791759>"
      ]
     },
     "execution_count": 14,
     "metadata": {},
     "output_type": "execute_result"
    }
   ],
   "source": [
    "max(test_loss)"
   ]
  },
  {
   "cell_type": "code",
   "execution_count": 15,
   "id": "polyphonic-jewel",
   "metadata": {
    "execution": {
     "iopub.execute_input": "2021-06-18T08:44:52.347746Z",
     "iopub.status.busy": "2021-06-18T08:44:52.346771Z",
     "iopub.status.idle": "2021-06-18T08:44:52.670100Z",
     "shell.execute_reply": "2021-06-18T08:44:52.669574Z",
     "shell.execute_reply.started": "2021-06-16T16:24:40.453022Z"
    },
    "papermill": {
     "duration": 0.381386,
     "end_time": "2021-06-18T08:44:52.670243",
     "exception": false,
     "start_time": "2021-06-18T08:44:52.288857",
     "status": "completed"
    },
    "scrolled": true,
    "tags": []
   },
   "outputs": [
    {
     "name": "stdout",
     "output_type": "stream",
     "text": [
      "1.0\n"
     ]
    },
    {
     "data": {
      "image/png": "[encoded data removed]",
      "text/plain": [
       "<Figure size 432x288 with 1 Axes>"
      ]
     },
     "metadata": {
      "needs_background": "light"
     },
     "output_type": "display_data"
    }
   ],
   "source": [
    "# normal transaction validation\n",
    "reconstructions = autoencoder.predict(fraud)\n",
    "fraud_loss = tf.keras.losses.mae(reconstructions, fraud)\n",
    "\n",
    "y_hat_fraud = fraud_loss >= threshold\n",
    "y_true_fraud = np.ones(fraud.shape[0])\n",
    "print(accuracy_score(y_true_fraud, y_hat_fraud))\n",
    "\n",
    "plt.hist(fraud_loss[None,:], bins=50)\n",
    "plt.xlabel(\"Fraud loss\")\n",
    "plt.ylabel(\"No of examples\")\n",
    "plt.show()"
   ]
  },
  {
   "cell_type": "code",
   "execution_count": 16,
   "id": "color-breed",
   "metadata": {
    "execution": {
     "iopub.execute_input": "2021-06-18T08:44:52.782663Z",
     "iopub.status.busy": "2021-06-18T08:44:52.781947Z",
     "iopub.status.idle": "2021-06-18T08:44:52.843720Z",
     "shell.execute_reply": "2021-06-18T08:44:52.844233Z",
     "shell.execute_reply.started": "2021-06-16T16:25:12.012199Z"
    },
    "papermill": {
     "duration": 0.120496,
     "end_time": "2021-06-18T08:44:52.844405",
     "exception": false,
     "start_time": "2021-06-18T08:44:52.723909",
     "status": "completed"
    },
    "tags": []
   },
   "outputs": [
    {
     "data": {
      "text/plain": [
       "<tf.Tensor: shape=(), dtype=float64, numpy=0.43139681607051217>"
      ]
     },
     "execution_count": 16,
     "metadata": {},
     "output_type": "execute_result"
    }
   ],
   "source": [
    "min(fraud_loss)"
   ]
  },
  {
   "cell_type": "markdown",
   "id": "latin-proposition",
   "metadata": {
    "papermill": {
     "duration": 0.054221,
     "end_time": "2021-06-18T08:44:52.952796",
     "exception": false,
     "start_time": "2021-06-18T08:44:52.898575",
     "status": "completed"
    },
    "tags": []
   },
   "source": [
    "We have some transactions that are not fraudulent and we classify them as fraudulent, but all the fraudulent transactions are classified correctly. Also we do not have problem of False Negative: fraudulent transactions classified as normal transactions."
   ]
  },
  {
   "cell_type": "code",
   "execution_count": null,
   "id": "supported-floating",
   "metadata": {
    "papermill": {
     "duration": 0.054379,
     "end_time": "2021-06-18T08:44:53.063398",
     "exception": false,
     "start_time": "2021-06-18T08:44:53.009019",
     "status": "completed"
    },
    "tags": []
   },
   "outputs": [],
   "source": []
  }
 ],
 "metadata": {
  "kernelspec": {
   "display_name": "Python 3 (ipykernel)",
   "language": "python",
   "name": "python3"
  },
  "language_info": {
   "codemirror_mode": {
    "name": "ipython",
    "version": 3
   },
   "file_extension": ".py",
   "mimetype": "text/x-python",
   "name": "python",
   "nbconvert_exporter": "python",
   "pygments_lexer": "ipython3",
   "version": "3.9.7"
  },
  "papermill": {
   "default_parameters": {},
   "duration": 43.909089,
   "end_time": "2021-06-18T08:44:55.148580",
   "environment_variables": {},
   "exception": null,
   "input_path": "__notebook__.ipynb",
   "output_path": "__notebook__.ipynb",
   "parameters": {},
   "start_time": "2021-06-18T08:44:11.239491",
   "version": "2.3.3"
  }
 },
 "nbformat": 4,
 "nbformat_minor": 5
}
