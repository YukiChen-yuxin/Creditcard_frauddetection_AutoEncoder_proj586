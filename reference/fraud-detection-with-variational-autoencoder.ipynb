{
 "cells": [
  {
   "cell_type": "markdown",
   "metadata": {
    "_uuid": "8fd18ebe311ab216ff8d9446a8f6b5010a9e1fba"
   },
   "source": [
    "This kernel trains a Variational Autoencoder in Keras with Gaussian input and output."
   ]
  },
  {
   "cell_type": "markdown",
   "metadata": {
    "_uuid": "bfd324e0f39675b85e2f14673d29262764c1aac0"
   },
   "source": [
    "Import Keras and other necessary libraries:"
   ]
  },
  {
   "cell_type": "code",
   "execution_count": 1,
   "metadata": {
    "_cell_guid": "b1076dfc-b9ad-4769-8c92-a6c4dae69d19",
    "_uuid": "8f2839f25d086af736a60e9eeb907d3b93b6e0e5"
   },
   "outputs": [],
   "source": [
    "import os\n",
    "\n",
    "import numpy as np\n",
    "import pandas as pd\n",
    "import matplotlib.pyplot as plt\n",
    "\n",
    "from sklearn import preprocessing, metrics\n",
    "from sklearn.discriminant_analysis import LinearDiscriminantAnalysis\n",
    "\n",
    "from keras import backend as K\n",
    "from keras.models import Model\n",
    "from keras.layers import Input, Dense, Lambda, BatchNormalization\n",
    "from keras.optimizers import Adam\n",
    "from keras.callbacks import EarlyStopping, ReduceLROnPlateau"
   ]
  },
  {
   "cell_type": "markdown",
   "metadata": {
    "_uuid": "b36a8d510f6130f8b00c64f6ae7fba9f3427f81f"
   },
   "source": [
    "Read data and set train/validation/test split:"
   ]
  },
  {
   "cell_type": "code",
   "execution_count": 2,
   "metadata": {
    "_cell_guid": "daf551eb-a910-4d3d-82d1-2c1ceffbe221",
    "_uuid": "a36f5f17a310779236b09a94ed67fadcb1313c92"
   },
   "outputs": [],
   "source": [
    "#read the dataset\n",
    "csv = pd.read_csv(\"creditcard.csv\")\n",
    "\n",
    "test_split = 0.3 #portion of data used for testing\n",
    "val_split = 0.2 #portion of training data used for validation"
   ]
  },
  {
   "cell_type": "markdown",
   "metadata": {
    "_uuid": "5c56caafd3b4b8493ca73778a24d6b945d8515c5"
   },
   "source": [
    "Prepare training, validation and test datasets:"
   ]
  },
  {
   "cell_type": "code",
   "execution_count": 3,
   "metadata": {
    "_cell_guid": "01cf0cc2-5932-4916-bf3c-ffcfbc9c114c",
    "_uuid": "b4d90f3e596bd62ce207eac9276290a240f8bdf0"
   },
   "outputs": [],
   "source": [
    "data = csv.astype('float32').copy()\n",
    "data.sort_values('Time', inplace=True)\n",
    "\n",
    "first_test = int(data.shape[0] * (1 - test_split))\n",
    "first_val = int(first_test * (1 - val_split))\n",
    "\n",
    "train = data.iloc[:first_val]\n",
    "val = data.iloc[first_val:first_test]\n",
    "test = data.iloc[first_test:]\n",
    "\n",
    "x_train_df, x_val_df, x_test_df = train.iloc[:, 1:-2], val.iloc[:, 1:-2], test.iloc[:, 1:-2]\n",
    "y_train_df, y_val_df, y_test_df = train.iloc[:, -1], val.iloc[:, -1], test.iloc[:, -1]\n",
    "\n",
    "x_train, x_val, x_test = x_train_df.values, x_val_df.values, x_test_df.values\n",
    "y_train, y_val, y_test = y_train_df.values, y_val_df.values, y_test_df.values\n",
    "\n",
    "scaler = preprocessing.StandardScaler()\n",
    "\n",
    "x_train, x_val, x_test = scaler.fit_transform(x_train), scaler.fit_transform(x_val), scaler.fit_transform(x_test)\n"
   ]
  },
  {
   "cell_type": "markdown",
   "metadata": {
    "_uuid": "4ea7827f403325785f0a726e078d13e6c9a526f5"
   },
   "source": [
    "Build the model and print summary:"
   ]
  },
  {
   "cell_type": "code",
   "execution_count": 6,
   "metadata": {},
   "outputs": [
    {
     "name": "stdout",
     "output_type": "stream",
     "text": [
      "WARNING:tensorflow:From D:\\anaconda3\\lib\\site-packages\\tensorflow\\python\\compat\\v2_compat.py:107: disable_resource_variables (from tensorflow.python.ops.variable_scope) is deprecated and will be removed in a future version.\n",
      "Instructions for updating:\n",
      "non-resource variables are not supported in the long term\n"
     ]
    }
   ],
   "source": [
    "import tensorflow._api.v2.compat.v1 as tf\n",
    "\n",
    "tf.disable_v2_behavior()"
   ]
  },
  {
   "cell_type": "code",
   "execution_count": 7,
   "metadata": {
    "_cell_guid": "770eb2e9-769d-4b91-b45f-50649491511e",
    "_uuid": "14baa17af3a2f125d3f760534571af214f51634b"
   },
   "outputs": [
    {
     "name": "stdout",
     "output_type": "stream",
     "text": [
      "WARNING:tensorflow:From D:\\anaconda3\\lib\\site-packages\\keras\\layers\\normalization\\batch_normalization.py:561: _colocate_with (from tensorflow.python.framework.ops) is deprecated and will be removed in a future version.\n",
      "Instructions for updating:\n",
      "Colocations handled automatically by placer.\n",
      "Model: \"model_1\"\n",
      "__________________________________________________________________________________________________\n",
      " Layer (type)                   Output Shape         Param #     Connected to                     \n",
      "==================================================================================================\n",
      " input_1 (InputLayer)           [(None, 28)]         0           []                               \n",
      "                                                                                                  \n",
      " batch_normalization_2 (BatchNo  (None, 28)          112         ['input_1[0][0]']                \n",
      " rmalization)                                                                                     \n",
      "                                                                                                  \n",
      " encoder_hidden (Dense)         (None, 16)           464         ['batch_normalization_2[0][0]']  \n",
      "                                                                                                  \n",
      " batch_normalization_3 (BatchNo  (None, 16)          64          ['encoder_hidden[0][0]']         \n",
      " rmalization)                                                                                     \n",
      "                                                                                                  \n",
      " z_mean (Dense)                 (None, 2)            34          ['batch_normalization_3[0][0]']  \n",
      "                                                                                                  \n",
      " z_log_var (Dense)              (None, 2)            34          ['batch_normalization_3[0][0]']  \n",
      "                                                                                                  \n",
      " z_sampled (Lambda)             (None, 2)            0           ['z_mean[0][0]',                 \n",
      "                                                                  'z_log_var[0][0]']              \n",
      "                                                                                                  \n",
      " decoder_hidden (Dense)         (None, 16)           48          ['z_sampled[0][0]']              \n",
      "                                                                                                  \n",
      " decoded_mean (Dense)           (None, 28)           476         ['decoder_hidden[0][0]']         \n",
      "                                                                                                  \n",
      "==================================================================================================\n",
      "Total params: 1,232\n",
      "Trainable params: 1,144\n",
      "Non-trainable params: 88\n",
      "__________________________________________________________________________________________________\n"
     ]
    }
   ],
   "source": [
    "hidden_size = 16 #size of the hidden layer in encoder and decoder\n",
    "latent_dim = 2 #number of latent variables to learn\n",
    "\n",
    "input_dim = x_train.shape[1]\n",
    "\n",
    "x = Input(shape=(input_dim,))\n",
    "t = BatchNormalization()(x)\n",
    "t = Dense(hidden_size, activation='tanh' , name='encoder_hidden')(t)\n",
    "t = BatchNormalization()(t)\n",
    "\n",
    "z_mean = Dense(latent_dim, name='z_mean')(t)\n",
    "z_log_var = Dense(latent_dim, name='z_log_var')(t)\n",
    "\n",
    "def sampling(args):\n",
    "    z_mean, z_log_var = args\n",
    "    epsilon = K.random_normal(shape=K.shape(z_mean), mean=0., stddev=1.)\n",
    "    return z_mean + K.exp(z_log_var / 2) * epsilon\n",
    "\n",
    "z = Lambda(sampling, name='z_sampled')([z_mean, z_log_var])\n",
    "#t = BatchNormalization()(z)\n",
    "\n",
    "t = Dense(hidden_size, activation='tanh', name='decoder_hidden')(z)\n",
    "#t = BatchNormalization()(t)\n",
    "\n",
    "decoded_mean = Dense(input_dim, activation=None, name='decoded_mean')(t)\n",
    "\n",
    "vae = Model(x, decoded_mean)\n",
    "\n",
    "def rec_loss(y_true, y_pred):\n",
    "    return K.sum(K.square(y_true - y_pred), axis=-1)\n",
    "\n",
    "def kl_loss(y_true, y_pred):\n",
    "    return - 0.5 * K.sum(1 + z_log_var - K.square(z_mean) - K.exp(z_log_var), axis=-1)\n",
    "\n",
    "def vae_loss(x, decoded_mean):\n",
    "    rec_loss = K.sum(K.square(x - decoded_mean), axis=-1)\n",
    "    kl_loss = - 0.5 * K.sum(1 + z_log_var - K.square(z_mean) - K.exp(z_log_var), axis=-1)\n",
    "    return K.mean((rec_loss + kl_loss) / 2)\n",
    "\n",
    "vae.compile(optimizer=Adam(lr=1e-2), loss=vae_loss, metrics=[rec_loss, kl_loss])\n",
    "vae.summary()\n"
   ]
  },
  {
   "cell_type": "markdown",
   "metadata": {
    "_uuid": "986cf6f9649034e015727b6845a141f03af2bdb3"
   },
   "source": [
    "Train the model with early stopping and a kind of learning rate schedule for the specified number of epochs with the specified batch size:"
   ]
  },
  {
   "cell_type": "code",
   "execution_count": 8,
   "metadata": {
    "_uuid": "2bbe25a6961e252294913a036c11ad68aafcf90f"
   },
   "outputs": [
    {
     "name": "stdout",
     "output_type": "stream",
     "text": [
      "Train on 159491 samples, validate on 39873 samples\n",
      "Epoch 1/30\n",
      "156288/159491 [============================>.] - ETA: 0s - loss: 13.2233 - rec_loss: 25.0466 - kl_loss: 1.4000"
     ]
    },
    {
     "name": "stderr",
     "output_type": "stream",
     "text": [
      "D:\\anaconda3\\lib\\site-packages\\keras\\engine\\training_v1.py:2333: UserWarning: `Model.state_updates` will be removed in a future version. This property should not be used in TensorFlow 2.0, as `updates` are applied automatically.\n",
      "  updates = self.state_updates\n"
     ]
    },
    {
     "name": "stdout",
     "output_type": "stream",
     "text": [
      "159491/159491 [==============================] - 2s 12us/sample - loss: 13.2271 - rec_loss: 25.0456 - kl_loss: 1.4086 - val_loss: 14.1580 - val_rec_loss: 26.9192 - val_kl_loss: 1.3967 - lr: 0.0100\n",
      "Epoch 2/30\n",
      "159491/159491 [==============================] - 1s 9us/sample - loss: 12.3254 - rec_loss: 22.7123 - kl_loss: 1.9385 - val_loss: 14.1475 - val_rec_loss: 26.7984 - val_kl_loss: 1.4966 - lr: 0.0100\n",
      "Epoch 3/30\n",
      "159491/159491 [==============================] - 1s 9us/sample - loss: 12.0502 - rec_loss: 22.0851 - kl_loss: 2.0153 - val_loss: 14.0941 - val_rec_loss: 26.5883 - val_kl_loss: 1.5998 - lr: 0.0100\n",
      "Epoch 4/30\n",
      "159491/159491 [==============================] - 2s 9us/sample - loss: 12.0012 - rec_loss: 21.9627 - kl_loss: 2.0397 - val_loss: 14.0912 - val_rec_loss: 26.5496 - val_kl_loss: 1.6328 - lr: 0.0100\n",
      "Epoch 5/30\n",
      "159491/159491 [==============================] - 2s 10us/sample - loss: 11.8992 - rec_loss: 21.7101 - kl_loss: 2.0883 - val_loss: 14.1380 - val_rec_loss: 26.6938 - val_kl_loss: 1.5822 - lr: 0.0100\n",
      "Epoch 6/30\n",
      "159491/159491 [==============================] - 2s 10us/sample - loss: 11.8691 - rec_loss: 21.5939 - kl_loss: 2.1442 - val_loss: 13.9160 - val_rec_loss: 26.1484 - val_kl_loss: 1.6836 - lr: 0.0100\n",
      "Epoch 7/30\n",
      "159491/159491 [==============================] - 1s 9us/sample - loss: 11.8565 - rec_loss: 21.5338 - kl_loss: 2.1793 - val_loss: 13.9103 - val_rec_loss: 26.1347 - val_kl_loss: 1.6860 - lr: 0.0100\n",
      "Epoch 8/30\n",
      "159491/159491 [==============================] - 2s 10us/sample - loss: 11.7819 - rec_loss: 21.3496 - kl_loss: 2.2142 - val_loss: 14.0316 - val_rec_loss: 26.1157 - val_kl_loss: 1.9475 - lr: 0.0100\n",
      "Epoch 9/30\n",
      "159491/159491 [==============================] - 2s 10us/sample - loss: 11.7519 - rec_loss: 21.2633 - kl_loss: 2.2405 - val_loss: 13.9211 - val_rec_loss: 26.1321 - val_kl_loss: 1.7101 - lr: 0.0100\n",
      "Epoch 10/30\n",
      "159491/159491 [==============================] - 2s 10us/sample - loss: 11.7267 - rec_loss: 21.2033 - kl_loss: 2.2501 - val_loss: 13.6931 - val_rec_loss: 25.5609 - val_kl_loss: 1.8253 - lr: 0.0100\n",
      "Epoch 11/30\n",
      "159491/159491 [==============================] - 2s 10us/sample - loss: 11.7060 - rec_loss: 21.1493 - kl_loss: 2.2627 - val_loss: 13.7330 - val_rec_loss: 25.6348 - val_kl_loss: 1.8313 - lr: 0.0100\n",
      "Epoch 12/30\n",
      "159491/159491 [==============================] - 1s 9us/sample - loss: 11.7201 - rec_loss: 21.1754 - kl_loss: 2.2648 - val_loss: 13.9582 - val_rec_loss: 25.9432 - val_kl_loss: 1.9733 - lr: 0.0100\n",
      "Epoch 13/30\n",
      "159491/159491 [==============================] - 2s 10us/sample - loss: 11.6754 - rec_loss: 21.0631 - kl_loss: 2.2876 - val_loss: 13.7297 - val_rec_loss: 25.6182 - val_kl_loss: 1.8413 - lr: 0.0100\n",
      "Epoch 14/30\n",
      "159491/159491 [==============================] - 1s 9us/sample - loss: 11.6509 - rec_loss: 20.9754 - kl_loss: 2.3264 - val_loss: 13.9317 - val_rec_loss: 25.9812 - val_kl_loss: 1.8823 - lr: 0.0100\n",
      "Epoch 15/30\n",
      "159491/159491 [==============================] - 1s 9us/sample - loss: 11.6527 - rec_loss: 20.9406 - kl_loss: 2.3648 - val_loss: 13.6157 - val_rec_loss: 25.0586 - val_kl_loss: 2.1728 - lr: 0.0100\n",
      "Epoch 16/30\n",
      "159491/159491 [==============================] - 1s 9us/sample - loss: 11.5923 - rec_loss: 20.7791 - kl_loss: 2.4056 - val_loss: 13.6755 - val_rec_loss: 25.3822 - val_kl_loss: 1.9688 - lr: 0.0100\n",
      "Epoch 17/30\n",
      "159491/159491 [==============================] - 1s 9us/sample - loss: 11.5707 - rec_loss: 20.7331 - kl_loss: 2.4082 - val_loss: 13.6549 - val_rec_loss: 25.1773 - val_kl_loss: 2.1324 - lr: 0.0100\n",
      "Epoch 18/30\n",
      "159491/159491 [==============================] - 1s 9us/sample - loss: 11.5877 - rec_loss: 20.7784 - kl_loss: 2.3970 - val_loss: 13.7224 - val_rec_loss: 25.3335 - val_kl_loss: 2.1113 - lr: 0.0100\n",
      "Epoch 19/30\n",
      "159491/159491 [==============================] - 1s 9us/sample - loss: 11.5987 - rec_loss: 20.7971 - kl_loss: 2.4004 - val_loss: 14.0752 - val_rec_loss: 26.0666 - val_kl_loss: 2.0837 - lr: 0.0100\n",
      "Epoch 20/30\n",
      "159491/159491 [==============================] - 1s 9us/sample - loss: 11.5887 - rec_loss: 20.8069 - kl_loss: 2.3705 - val_loss: 14.3748 - val_rec_loss: 26.4259 - val_kl_loss: 2.3237 - lr: 0.0100\n",
      "Epoch 21/30\n",
      "159491/159491 [==============================] - 2s 10us/sample - loss: 11.5725 - rec_loss: 20.7596 - kl_loss: 2.3854 - val_loss: 13.6745 - val_rec_loss: 25.2241 - val_kl_loss: 2.1248 - lr: 0.0100\n",
      "Epoch 22/30\n",
      "159491/159491 [==============================] - 1s 9us/sample - loss: 11.5303 - rec_loss: 20.6564 - kl_loss: 2.4043 - val_loss: 13.8868 - val_rec_loss: 25.5880 - val_kl_loss: 2.1856 - lr: 0.0100\n",
      "Epoch 23/30\n",
      "159491/159491 [==============================] - 1s 9us/sample - loss: 11.5454 - rec_loss: 20.6833 - kl_loss: 2.4074 - val_loss: 13.6589 - val_rec_loss: 25.0191 - val_kl_loss: 2.2988 - lr: 0.0100\n",
      "Epoch 24/30\n",
      "159491/159491 [==============================] - 2s 9us/sample - loss: 11.5183 - rec_loss: 20.6324 - kl_loss: 2.4041 - val_loss: 13.6684 - val_rec_loss: 25.0903 - val_kl_loss: 2.2464 - lr: 0.0100\n",
      "Epoch 25/30\n",
      "159491/159491 [==============================] - 1s 9us/sample - loss: 11.5292 - rec_loss: 20.6524 - kl_loss: 2.4059 - val_loss: 13.9639 - val_rec_loss: 25.5152 - val_kl_loss: 2.4127 - lr: 0.0100\n",
      "Epoch 26/30\n",
      "159491/159491 [==============================] - 1s 9us/sample - loss: 11.5651 - rec_loss: 20.7303 - kl_loss: 2.4000 - val_loss: 13.6527 - val_rec_loss: 25.2579 - val_kl_loss: 2.0476 - lr: 0.0100\n",
      "Epoch 27/30\n",
      "159491/159491 [==============================] - 1s 9us/sample - loss: 11.5155 - rec_loss: 20.6444 - kl_loss: 2.3866 - val_loss: 13.7455 - val_rec_loss: 25.2422 - val_kl_loss: 2.2487 - lr: 0.0100\n",
      "Epoch 28/30\n",
      "159491/159491 [==============================] - 1s 9us/sample - loss: 11.5464 - rec_loss: 20.6924 - kl_loss: 2.4004 - val_loss: 13.5747 - val_rec_loss: 24.9501 - val_kl_loss: 2.1992 - lr: 0.0100\n",
      "Epoch 29/30\n",
      "159491/159491 [==============================] - 2s 9us/sample - loss: 11.5342 - rec_loss: 20.6721 - kl_loss: 2.3963 - val_loss: 13.4993 - val_rec_loss: 24.8841 - val_kl_loss: 2.1145 - lr: 0.0100\n",
      "Epoch 30/30\n",
      "159491/159491 [==============================] - 1s 9us/sample - loss: 11.4959 - rec_loss: 20.5996 - kl_loss: 2.3921 - val_loss: 13.5806 - val_rec_loss: 24.9120 - val_kl_loss: 2.2492 - lr: 0.0100\n"
     ]
    }
   ],
   "source": [
    "n_epochs = 30\n",
    "batch_size = 128\n",
    "\n",
    "early_stopping = EarlyStopping(monitor='loss', patience=10, min_delta=1e-5) #stop training if loss does not decrease with at least 0.00001\n",
    "reduce_lr = ReduceLROnPlateau(monitor='loss', patience=5, min_delta=1e-5, factor=0.2) #reduce learning rate (divide it by 5 = multiply it by 0.2) if loss does not decrease with at least 0.00001\n",
    "\n",
    "callbacks = [early_stopping, reduce_lr]\n",
    "\n",
    "#collect training data in history object\n",
    "history = vae.fit(x_train, x_train, \n",
    "                  validation_data=(x_val, x_val), \n",
    "                  batch_size=batch_size, epochs=n_epochs, \n",
    "                  callbacks=callbacks)\n"
   ]
  },
  {
   "cell_type": "markdown",
   "metadata": {
    "_uuid": "7ff8ac9002fc5035470e92de7a5fd8fd775b9f22"
   },
   "source": [
    "Plotting training and validation loss:"
   ]
  },
  {
   "cell_type": "code",
   "execution_count": 9,
   "metadata": {
    "_cell_guid": "488e0909-8376-4e10-9126-073c45c0422a",
    "_uuid": "242200ed138247c77abc7debaa04e12ba978f1cb"
   },
   "outputs": [
    {
     "data": {
      "image/png": "[encoded data removed]",
      "text/plain": [
       "<Figure size 1008x432 with 1 Axes>"
      ]
     },
     "metadata": {
      "needs_background": "light"
     },
     "output_type": "display_data"
    }
   ],
   "source": [
    "fig = plt.figure(figsize=(14, 6))\n",
    "ax = fig.gca()\n",
    "ax.plot(history.history['rec_loss']);\n",
    "ax.plot(history.history['val_rec_loss']);\n"
   ]
  },
  {
   "cell_type": "markdown",
   "metadata": {
    "_uuid": "84dce722240914836f49d38bec4db13e18e132ad"
   },
   "source": [
    "Plotting the learned latent representations for normal and anomalous instances in the specified dataset (training/validation/test):"
   ]
  },
  {
   "cell_type": "code",
   "execution_count": 10,
   "metadata": {
    "_cell_guid": "da255d38-33ab-47d9-820d-1698a0e57de9",
    "_uuid": "1b584c09b0881faf4bb5f04b8b1e68e27fd22aa6"
   },
   "outputs": [
    {
     "name": "stderr",
     "output_type": "stream",
     "text": [
      "D:\\anaconda3\\lib\\site-packages\\keras\\engine\\training_v1.py:2357: UserWarning: `Model.state_updates` will be removed in a future version. This property should not be used in TensorFlow 2.0, as `updates` are applied automatically.\n",
      "  updates=self.state_updates,\n"
     ]
    },
    {
     "data": {
      "image/png": "[encoded data removed]",
      "text/plain": [
       "<Figure size 432x432 with 1 Axes>"
      ]
     },
     "metadata": {
      "needs_background": "light"
     },
     "output_type": "display_data"
    }
   ],
   "source": [
    "x_data = x_train\n",
    "y_data = y_train\n",
    "\n",
    "encoder = Model(x, z_mean)\n",
    "\n",
    "with_labels = np.concatenate([x_data, np.reshape(y_data, (-1, 1))], axis=1) #concatenate x and y to be able to filter by class\n",
    "\n",
    "normal = with_labels[np.where(with_labels[:, -1] == 0)] #filter normal instances\n",
    "anomalous = with_labels[np.where(with_labels[:, -1] == 1)] #filter anomalous instances\n",
    "\n",
    "normal_encoded = encoder.predict(normal[:, :-1], batch_size=128)\n",
    "anomalous_encoded = encoder.predict(anomalous[:, :-1], batch_size=128)\n",
    "\n",
    "fig = plt.figure(figsize=(6, 6))\n",
    "ax = fig.gca()\n",
    "\n",
    "#semicolon at the end hides unnecessary output\n",
    "ax.scatter(normal_encoded[:, 0], normal_encoded[:, 1]);\n",
    "ax.scatter(anomalous_encoded[:, 0], anomalous_encoded[:, 1]);\n"
   ]
  },
  {
   "cell_type": "markdown",
   "metadata": {
    "_uuid": "8d7f755b11f863f43f20d665619362a57728cad0"
   },
   "source": [
    "Apply simple Linear Discriminant Analysis to learned features (the latent representations):"
   ]
  },
  {
   "cell_type": "code",
   "execution_count": 11,
   "metadata": {
    "_cell_guid": "8f9658ca-6f31-4046-9c4f-272632e946e0",
    "_uuid": "13ea7fe9d3a974beebebd87093c1fb1712b71d27"
   },
   "outputs": [
    {
     "name": "stdout",
     "output_type": "stream",
     "text": [
      "AUC(ROC): 0.8816768798875098\n",
      "Precision: 0.3289156626506024\n",
      "Recall: 0.7668539325842697\n",
      "F1 score: 0.4603709949409781\n",
      "False positives: 557\n",
      "True positives: 273\n",
      "False negatives: 83\n",
      "True negateives: 158578\n"
     ]
    }
   ],
   "source": [
    "with_labels_encoded = encoder.predict(with_labels[:, :-1], batch_size=128)\n",
    "\n",
    "X = with_labels_encoded\n",
    "y = with_labels[:, -1]\n",
    "\n",
    "clf = LinearDiscriminantAnalysis()\n",
    "clf.fit(X, y)\n",
    "\n",
    "pred = clf.predict(X)\n",
    "\n",
    "print(\"AUC(ROC): \" + str(metrics.roc_auc_score(y, pred)))\n",
    "print(\"Precision: \" + str(metrics.precision_score(y, pred)))\n",
    "print(\"Recall: \" + str(metrics.recall_score(y, pred)))\n",
    "print(\"F1 score: \" + str(metrics.f1_score(y, pred)))\n",
    "\n",
    "tn, fp, fn, tp = metrics.confusion_matrix(y, pred).ravel()\n",
    "\n",
    "print(\"False positives: \" + str(fp))\n",
    "print(\"True positives: \" + str(tp))\n",
    "print(\"False negatives: \" + str(fn))\n",
    "print(\"True negateives: \" + str(tn))"
   ]
  },
  {
   "cell_type": "code",
   "execution_count": null,
   "metadata": {},
   "outputs": [],
   "source": []
  },
  {
   "cell_type": "code",
   "execution_count": null,
   "metadata": {},
   "outputs": [],
   "source": []
  },
  {
   "cell_type": "code",
   "execution_count": null,
   "metadata": {},
   "outputs": [],
   "source": []
  },
  {
   "cell_type": "code",
   "execution_count": null,
   "metadata": {},
   "outputs": [],
   "source": []
  },
  {
   "cell_type": "code",
   "execution_count": null,
   "metadata": {},
   "outputs": [],
   "source": []
  },
  {
   "cell_type": "code",
   "execution_count": null,
   "metadata": {},
   "outputs": [],
   "source": []
  },
  {
   "cell_type": "code",
   "execution_count": null,
   "metadata": {},
   "outputs": [],
   "source": []
  },
  {
   "cell_type": "code",
   "execution_count": null,
   "metadata": {},
   "outputs": [],
   "source": []
  },
  {
   "cell_type": "code",
   "execution_count": null,
   "metadata": {},
   "outputs": [],
   "source": []
  }
 ],
 "metadata": {
  "kernelspec": {
   "display_name": "Python 3 (ipykernel)",
   "language": "python",
   "name": "python3"
  },
  "language_info": {
   "codemirror_mode": {
    "name": "ipython",
    "version": 3
   },
   "file_extension": ".py",
   "mimetype": "text/x-python",
   "name": "python",
   "nbconvert_exporter": "python",
   "pygments_lexer": "ipython3",
   "version": "3.9.7"
  }
 },
 "nbformat": 4,
 "nbformat_minor": 1
}
